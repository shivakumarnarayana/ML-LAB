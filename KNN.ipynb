{
 "cells": [
  {
   "cell_type": "code",
   "execution_count": 3,
   "metadata": {},
   "outputs": [],
   "source": [
    "from sklearn.model_selection import train_test_split\n",
    "from sklearn.neighbors import KNeighborsClassifier\n",
    "from sklearn import datasets\n"
   ]
  },
  {
   "cell_type": "code",
   "execution_count": 5,
   "metadata": {},
   "outputs": [
    {
     "name": "stdout",
     "output_type": "stream",
     "text": [
      "iris data set loaded\n"
     ]
    }
   ],
   "source": [
    "iris=datasets.load_iris()\n",
    "print(\"iris data set loaded\")"
   ]
  },
  {
   "cell_type": "code",
   "execution_count": 9,
   "metadata": {},
   "outputs": [
    {
     "name": "stdout",
     "output_type": "stream",
     "text": [
      "size of train data (135, 4) (135,)\n",
      "size of test data (15, 4) (15,)\n"
     ]
    }
   ],
   "source": [
    "x_train,x_test,y_train,y_test=train_test_split(iris.data,iris.target,test_size=0.1)\n",
    "print(\"size of train data\",x_train.shape,y_train.shape)\n",
    "print(\"size of test data\",x_test.shape,y_test.shape)"
   ]
  },
  {
   "cell_type": "code",
   "execution_count": 11,
   "metadata": {},
   "outputs": [
    {
     "name": "stdout",
     "output_type": "stream",
     "text": [
      "label 0 --- setosa\n",
      "label 1 --- versicolor\n",
      "label 2 --- virginica\n"
     ]
    }
   ],
   "source": [
    "for i in range(len(iris.target_names)):\n",
    "    print('label',i,\"---\",str(iris.target_names[i]))\n"
   ]
  },
  {
   "cell_type": "code",
   "execution_count": 14,
   "metadata": {},
   "outputs": [
    {
     "name": "stdout",
     "output_type": "stream",
     "text": [
      "result of classifier using knn with k=1\n",
      "sample [6.3 2.9 5.6 1.8] actual-label 2 predict 2\n",
      "sample [6.1 2.6 5.6 1.4] actual-label 2 predict 1\n",
      "sample [5.5 2.5 4.  1.3] actual-label 1 predict 1\n",
      "sample [7.1 3.  5.9 2.1] actual-label 2 predict 2\n",
      "sample [7.2 3.6 6.1 2.5] actual-label 2 predict 2\n",
      "sample [6.1 3.  4.9 1.8] actual-label 2 predict 2\n",
      "sample [5.7 3.8 1.7 0.3] actual-label 0 predict 0\n",
      "sample [6.3 2.5 5.  1.9] actual-label 2 predict 2\n",
      "sample [7.2 3.2 6.  1.8] actual-label 2 predict 2\n",
      "sample [4.4 3.  1.3 0.2] actual-label 0 predict 0\n",
      "sample [4.4 3.2 1.3 0.2] actual-label 0 predict 0\n",
      "sample [5.  3.5 1.3 0.3] actual-label 0 predict 0\n",
      "sample [6.7 2.5 5.8 1.8] actual-label 2 predict 2\n",
      "sample [5.9 3.  5.1 1.8] actual-label 2 predict 2\n",
      "sample [5.1 3.4 1.5 0.2] actual-label 0 predict 0\n",
      "classifier accuracy 0.9333333333333333\n"
     ]
    }
   ],
   "source": [
    "classifier=KNeighborsClassifier(n_neighbors=1)\n",
    "classifier.fit(x_train,y_train)\n",
    "y_pred=classifier.predict(x_test)\n",
    "print('result of classifier using knn with k=1')\n",
    "for r in range(0,len(x_test)):\n",
    "    print('sample',str(x_test[r]),'actual-label',str(y_test[r]),'predict',str(y_pred[r]))\n",
    "print(\"classifier accuracy\",classifier.score(x_test,y_test))\n"
   ]
  },
  {
   "cell_type": "code",
   "execution_count": 16,
   "metadata": {},
   "outputs": [
    {
     "name": "stdout",
     "output_type": "stream",
     "text": [
      "confusion matrix\n",
      "[[5 0 0]\n",
      " [0 1 0]\n",
      " [0 1 8]]\n",
      "acuracy matrix\n",
      "              precision    recall  f1-score   support\n",
      "\n",
      "           0       1.00      1.00      1.00         5\n",
      "           1       0.50      1.00      0.67         1\n",
      "           2       1.00      0.89      0.94         9\n",
      "\n",
      "    accuracy                           0.93        15\n",
      "   macro avg       0.83      0.96      0.87        15\n",
      "weighted avg       0.97      0.93      0.94        15\n",
      "\n"
     ]
    }
   ],
   "source": [
    "from sklearn.metrics import classification_report,confusion_matrix\n",
    "print('confusion matrix')\n",
    "print(confusion_matrix(y_test,y_pred))\n",
    "print('acuracy matrix')\n",
    "print(classification_report(y_test,y_pred))"
   ]
  }
 ],
 "metadata": {
  "kernelspec": {
   "display_name": "Python 3",
   "language": "python",
   "name": "python3"
  },
  "language_info": {
   "codemirror_mode": {
    "name": "ipython",
    "version": 3
   },
   "file_extension": ".py",
   "mimetype": "text/x-python",
   "name": "python",
   "nbconvert_exporter": "python",
   "pygments_lexer": "ipython3",
   "version": "3.7.3"
  }
 },
 "nbformat": 4,
 "nbformat_minor": 2
}
