{
 "cells": [
  {
   "cell_type": "code",
   "execution_count": 1,
   "metadata": {},
   "outputs": [],
   "source": [
    "import numpy as np\n",
    "import pandas as pd\n",
    "import csv\n",
    "from pgmpy.estimators import MaximumLikelihoodEstimator\n",
    "from pgmpy.models import BayesianModel\n",
    "from pgmpy.inference import VariableElimination"
   ]
  },
  {
   "cell_type": "code",
   "execution_count": 2,
   "metadata": {},
   "outputs": [],
   "source": [
    "lines=list(csv.reader(open('pgm7names.csv','r')))\n",
    "att=lines[0]\n",
    "heartDis=pd.read_csv('pgm7_d.csv',names=att)\n",
    "heartDis=heartDis.replace('?',np.nan)"
   ]
  },
  {
   "cell_type": "code",
   "execution_count": 3,
   "metadata": {},
   "outputs": [
    {
     "name": "stdout",
     "output_type": "stream",
     "text": [
      "Few xampes fom dataset\n",
      "   age  sex  cp  trestbps  chol  fbs  restecg  thalach  exang  oldpeak  slope  \\\n",
      "0   63    1   1       145   233    1        2      150      0      2.3      3   \n",
      "1   67    1   4       160   286    0        2      108      1      1.5      2   \n",
      "2   67    1   4       120   229    0        2      129      1      2.6      2   \n",
      "3   37    1   3       130   250    0        0      187      0      3.5      3   \n",
      "4   41    0   2       130   204    0        2      172      0      1.4      1   \n",
      "\n",
      "  ca thal  heartdisease  \n",
      "0  0    6             0  \n",
      "1  3    3             2  \n",
      "2  2    7             1  \n",
      "3  0    3             0  \n",
      "4  0    3             0  \n",
      "Attributes&datatypes\n",
      "age               int64\n",
      "sex               int64\n",
      "cp                int64\n",
      "trestbps          int64\n",
      "chol              int64\n",
      "fbs               int64\n",
      "restecg           int64\n",
      "thalach           int64\n",
      "exang             int64\n",
      "oldpeak         float64\n",
      "slope             int64\n",
      "ca               object\n",
      "thal             object\n",
      "heartdisease      int64\n",
      "dtype: object\n"
     ]
    }
   ],
   "source": [
    "print(\"Few xampes fom dataset\")\n",
    "print(heartDis.head())\n",
    "print('Attributes&datatypes')\n",
    "print(heartDis.dtypes)"
   ]
  },
  {
   "cell_type": "code",
   "execution_count": 4,
   "metadata": {},
   "outputs": [],
   "source": [
    "model = BayesianModel([('age', 'trestbps'), ('age', 'fbs'), ('sex', 'trestbps'), ('sex', 'trestbps'), ('exang', 'trestbps'),('trestbps','heartdisease'),('fbs','heartdisease'), ('heartdisease','restecg'),('heartdisease','thalach'),('heartdisease','chol')])\n"
   ]
  },
  {
   "cell_type": "code",
   "execution_count": 5,
   "metadata": {},
   "outputs": [
    {
     "name": "stdout",
     "output_type": "stream",
     "text": [
      "\n",
      " learning CPD's using maximum likiliehood Estimators\n"
     ]
    }
   ],
   "source": [
    "print(\"\\n learning CPD's using maximum likiliehood Estimators\")\n",
    "model.fit(heartDis,estimator=MaximumLikelihoodEstimator)"
   ]
  },
  {
   "cell_type": "code",
   "execution_count": 8,
   "metadata": {},
   "outputs": [
    {
     "name": "stdout",
     "output_type": "stream",
     "text": [
      "\n",
      "Inferencing with Bayesian Network:\n",
      "\n",
      "1.Probability of HeartDisease given Age=20\n",
      "╒════════════════╤═════════════════════╕\n",
      "│ heartdisease   │   phi(heartdisease) │\n",
      "╞════════════════╪═════════════════════╡\n",
      "│ heartdisease_0 │              0.6791 │\n",
      "├────────────────┼─────────────────────┤\n",
      "│ heartdisease_1 │              0.1212 │\n",
      "├────────────────┼─────────────────────┤\n",
      "│ heartdisease_2 │              0.0810 │\n",
      "├────────────────┼─────────────────────┤\n",
      "│ heartdisease_3 │              0.0939 │\n",
      "├────────────────┼─────────────────────┤\n",
      "│ heartdisease_4 │              0.0247 │\n",
      "╘════════════════╧═════════════════════╛\n",
      "\n",
      "2. Probability of HeartDisease given chol (Cholestoral) =100\n",
      "╒════════════════╤═════════════════════╕\n",
      "│ heartdisease   │   phi(heartdisease) │\n",
      "╞════════════════╪═════════════════════╡\n",
      "│ heartdisease_0 │              0.5400 │\n",
      "├────────────────┼─────────────────────┤\n",
      "│ heartdisease_1 │              0.1533 │\n",
      "├────────────────┼─────────────────────┤\n",
      "│ heartdisease_2 │              0.1303 │\n",
      "├────────────────┼─────────────────────┤\n",
      "│ heartdisease_3 │              0.1259 │\n",
      "├────────────────┼─────────────────────┤\n",
      "│ heartdisease_4 │              0.0506 │\n",
      "╘════════════════╧═════════════════════╛\n"
     ]
    },
    {
     "name": "stderr",
     "output_type": "stream",
     "text": [
      "C:\\Users\\ML-16\\Anaconda3\\lib\\site-packages\\pgmpy\\factors\\discrete\\DiscreteFactor.py:586: FutureWarning: Using a non-tuple sequence for multidimensional indexing is deprecated; use `arr[tuple(seq)]` instead of `arr[seq]`. In the future this will be interpreted as an array index, `arr[np.array(seq)]`, which will result either in an error or a different result.\n",
      "  phi.values = phi.values[slice_]\n",
      "C:\\Users\\ML-16\\Anaconda3\\lib\\site-packages\\pgmpy\\factors\\discrete\\DiscreteFactor.py:598: FutureWarning: Using a non-tuple sequence for multidimensional indexing is deprecated; use `arr[tuple(seq)]` instead of `arr[seq]`. In the future this will be interpreted as an array index, `arr[np.array(seq)]`, which will result either in an error or a different result.\n",
      "  phi1.values = phi1.values[slice_]\n"
     ]
    }
   ],
   "source": [
    "print('\\nInferencing with Bayesian Network:') \n",
    "HeartDisease_infer = VariableElimination(model)  \n",
    "print('\\n1.Probability of HeartDisease given Age=20') \n",
    "q = HeartDisease_infer.query(variables=['heartdisease'], evidence={'age': 28}) \n",
    "print(q['heartdisease']) \n",
    "print('\\n2. Probability of HeartDisease given chol (Cholestoral) =100') \n",
    "q = HeartDisease_infer.query(variables=['heartdisease'], evidence={'chol': 100}) \n",
    "print(q['heartdisease'])"
   ]
  },
  {
   "cell_type": "code",
   "execution_count": null,
   "metadata": {},
   "outputs": [],
   "source": []
  },
  {
   "cell_type": "code",
   "execution_count": null,
   "metadata": {},
   "outputs": [],
   "source": []
  }
 ],
 "metadata": {
  "kernelspec": {
   "display_name": "Python 3",
   "language": "python",
   "name": "python3"
  },
  "language_info": {
   "codemirror_mode": {
    "name": "ipython",
    "version": 3
   },
   "file_extension": ".py",
   "mimetype": "text/x-python",
   "name": "python",
   "nbconvert_exporter": "python",
   "pygments_lexer": "ipython3",
   "version": "3.7.0"
  }
 },
 "nbformat": 4,
 "nbformat_minor": 2
}
