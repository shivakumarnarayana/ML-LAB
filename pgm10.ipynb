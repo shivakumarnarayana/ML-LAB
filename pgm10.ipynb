{
 "cells": [
  {
   "cell_type": "code",
   "execution_count": 13,
   "metadata": {},
   "outputs": [],
   "source": [
    "import matplotlib.pyplot as plt\n",
    "import numpy as np  \n",
    "import pandas as pd\n",
    "\n",
    "def kernel(point,xmat, k):\n",
    "    m,n = np.shape(xmat)\n",
    "    weights = np.mat(np.eye(m))   \n",
    "    for j in range(m):         \n",
    "        diff = point - X[j]         \n",
    "        weights[j,j] = np.exp(diff*diff.T/(-2.0*k**2))     \n",
    "    return weights \n",
    "\n",
    "def localWeight(point,xmat,ymat,k):     \n",
    "    wei = kernel(point,xmat,k)     \n",
    "    W = (X.T*(wei*X)).I*(X.T*(wei*ymat.T))     \n",
    "    return W  \n",
    "\n",
    "def localWeightRegression(xmat,ymat,k):     \n",
    "    m,n = np.shape(xmat)     \n",
    "    ypred = np.zeros(m)     \n",
    "    for i in range(m):         \n",
    "        ypred[i] = xmat[i]*localWeight(xmat[i],xmat,ymat,k)     \n",
    "    return ypred  \n",
    "\n",
    "def graphPlot(X,ypred):     \n",
    "    sortindex = X[:,1].argsort(0)  \n",
    "    xsort = X[sortindex][:,0]     \n",
    "    fig = plt.figure()     \n",
    "    ax = fig.add_subplot(1,1,1)     \n",
    "    ax.scatter(bill,tip, color='green')     \n",
    "    ax.plot(xsort[:,1],ypred[sortindex], color = 'red', linewidth=5)     \n",
    "    plt.xlabel('Total bill')     \n",
    "    plt.ylabel('Tip')    \n",
    "    plt.show();  \n",
    "    \n"
   ]
  },
  {
   "cell_type": "code",
   "execution_count": 14,
   "metadata": {},
   "outputs": [
    {
     "data": {
      "image/png": "[encoded data removed]",
      "text/plain": [
       "<Figure size 432x288 with 1 Axes>"
      ]
     },
     "metadata": {
      "needs_background": "light"
     },
     "output_type": "display_data"
    }
   ],
   "source": [
    "data = pd.read_csv('10.csv') \n",
    "bill = np.array(data.total_bill)\n",
    "tip = np.array(data.tip) \n",
    "mbill = np.mat(bill)\n",
    "mtip = np.mat(tip) \n",
    "m= np.shape(mbill)[1] \n",
    "one = np.mat(np.ones(m)) \n",
    "X = np.hstack((one.T,mbill.T))\n",
    "ypred = localWeightRegression(X,mtip,9) \n",
    "graphPlot(X,ypred) "
   ]
  },
  {
   "cell_type": "code",
   "execution_count": null,
   "metadata": {},
   "outputs": [],
   "source": []
  }
 ],
 "metadata": {
  "kernelspec": {
   "display_name": "Python 3",
   "language": "python",
   "name": "python3"
  },
  "language_info": {
   "codemirror_mode": {
    "name": "ipython",
    "version": 3
   },
   "file_extension": ".py",
   "mimetype": "text/x-python",
   "name": "python",
   "nbconvert_exporter": "python",
   "pygments_lexer": "ipython3",
   "version": "3.7.0"
  }
 },
 "nbformat": 4,
 "nbformat_minor": 2
}
