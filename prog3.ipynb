{
 "cells": [
  {
   "cell_type": "code",
   "execution_count": 1,
   "metadata": {},
   "outputs": [],
   "source": [
    "import pandas as pd\n"
   ]
  },
  {
   "cell_type": "code",
   "execution_count": 2,
   "metadata": {},
   "outputs": [
    {
     "name": "stdout",
     "output_type": "stream",
     "text": [
      "\n",
      " given play tennis dataset:\n",
      "\n",
      "      Outlook Temperature Humidity    Wind Answer\n",
      "0      sunny         hot     high    weak     no\n",
      "1      sunny         hot     high  strong     no\n",
      "2   overcast         hot     high    weak    yes\n",
      "3       rain        mild     high    weak    yes\n",
      "4       rain        cool   normal    weak    yes\n",
      "5       rain        cool   normal  strong     no\n",
      "6   overcast        cool   normal  strong    yes\n",
      "7      sunny        mild     high    weak     no\n",
      "8      sunny        cool   normal    weak    yes\n",
      "9       rain        mild   normal    weak    yes\n",
      "10     sunny        mild   normal  strong    yes\n",
      "11  overcast        mild     high  strong    yes\n",
      "12  overcast         hot   normal    weak    yes\n",
      "13      rain        mild     high  strong     no\n"
     ]
    }
   ],
   "source": [
    "df_tennis=pd.read_csv(\"Prog 3-data3.csv\")\n",
    "print(\"\\n given play tennis dataset:\\n\\n\",df_tennis)\n"
   ]
  },
  {
   "cell_type": "code",
   "execution_count": 3,
   "metadata": {},
   "outputs": [],
   "source": [
    "def entropy(probs):\n",
    "    import math\n",
    "    return sum([-prob*math.log(prob,2)for prob in probs])"
   ]
  },
  {
   "cell_type": "code",
   "execution_count": 4,
   "metadata": {},
   "outputs": [],
   "source": [
    "def entropy_of_list(a_list):\n",
    "    from collections import Counter\n",
    "    cnt=Counter(x for x in a_list)\n",
    "    num_instances=len(a_list)\n",
    "    probs=[x/num_instances for x in cnt.values()]\n",
    "    return entropy(probs)"
   ]
  },
  {
   "cell_type": "code",
   "execution_count": 5,
   "metadata": {},
   "outputs": [
    {
     "name": "stdout",
     "output_type": "stream",
     "text": [
      "\n",
      " total entropy of play tennis dataset: 0.9402859586706309\n"
     ]
    }
   ],
   "source": [
    "total_entropy=entropy_of_list(df_tennis['Answer'])\n",
    "print(\"\\n total entropy of play tennis dataset:\",total_entropy)\n"
   ]
  },
  {
   "cell_type": "code",
   "execution_count": 6,
   "metadata": {},
   "outputs": [
    {
     "name": "stdout",
     "output_type": "stream",
     "text": [
      "info-gain for outlook is:0.2467498197744391 \n",
      "\n",
      "info-gain for humidity is:0.15183550136234136 \n",
      "\n",
      "info-gain for wind is:0.04812703040826927 \n",
      "\n",
      "info-gain for temperature is:0.029222565658954647 \n",
      "\n"
     ]
    }
   ],
   "source": [
    "def information_gain(df,split_attribute_name,target_attribute_name,trace=0):\n",
    "    df_split=df.groupby(split_attribute_name)\n",
    "    for name,group in df_split:\n",
    "        nobs=len(df.index)\n",
    "    df_agg_cnt=df_split.agg({target_attribute_name:[entropy_of_list,lambda x:len(x)/nobs]})[target_attribute_name]\n",
    "    df_agg_cnt.columns=['entropy','propobservations']\n",
    "    if trace:\n",
    "        print(df_agg_cnt)\n",
    "    new_entropy=sum(df_agg_cnt['entropy']*df_agg_cnt['propobservations'])\n",
    "    old_entropy=entropy_of_list(df[target_attribute_name])\n",
    "    return old_entropy-new_entropy\n",
    "print('info-gain for outlook is:'+str(information_gain(df_tennis,'Outlook','Answer')),\"\\n\")\n",
    "print('info-gain for humidity is:'+str(information_gain(df_tennis,'Humidity','Answer')),\"\\n\")\n",
    "print('info-gain for wind is:'+str(information_gain(df_tennis,'Wind','Answer')),\"\\n\")\n",
    "print('info-gain for temperature is:'+str(information_gain(df_tennis,'Temperature','Answer')),\"\\n\")\n",
    "\n",
    "\n"
   ]
  },
  {
   "cell_type": "code",
   "execution_count": 7,
   "metadata": {},
   "outputs": [],
   "source": [
    "def id3(df,target_attribute_name,attribute_names,default_class=None):\n",
    "    from collections import Counter\n",
    "    cnt=Counter(x for x in df[target_attribute_name])\n",
    "    if len(cnt)==1:\n",
    "        return next(iter(cnt))\n",
    "    elif df.empty or (not attribute_names):\n",
    "        return default_class\n",
    "    else:\n",
    "        defualt_class=max(cnt.keys())\n",
    "    gainz=[information_gain(df,attr,target_attribute_name) for attr in attribute_names]\n",
    "    index_of_max=gainz.index(max(gainz))\n",
    "    best_attr=attribute_names[index_of_max]\n",
    "    tree={best_attr:{}}\n",
    "    remaining_attribute_names=[i for i in attribute_names if i!=best_attr]\n",
    "    for attr_val,data_subset in df.groupby(best_attr):\n",
    "        subtree=id3(data_subset,target_attribute_name,remaining_attribute_names,default_class)\n",
    "        tree[best_attr][attr_val] =subtree\n",
    "    return tree    "
   ]
  },
  {
   "cell_type": "code",
   "execution_count": 8,
   "metadata": {},
   "outputs": [
    {
     "name": "stdout",
     "output_type": "stream",
     "text": [
      "\n",
      "\n",
      " The resultant decision tree is:\n",
      "\n",
      "{'Outlook': {'overcast': 'yes',\n",
      "             'rain': {'Wind': {'strong': 'no', 'weak': 'yes'}},\n",
      "             'sunny': {'Humidity': {'high': 'no', 'normal': 'yes'}}}}\n"
     ]
    }
   ],
   "source": [
    "attribute_names=list(df_tennis.columns)\n",
    "attribute_names.remove('Answer')\n",
    "from pprint import pprint\n",
    "tree=id3(df_tennis,'Answer',attribute_names)\n",
    "print(\"\\n\\n The resultant decision tree is:\\n\")\n",
    "pprint(tree)"
   ]
  },
  {
   "cell_type": "code",
   "execution_count": 9,
   "metadata": {},
   "outputs": [
    {
     "name": "stdout",
     "output_type": "stream",
     "text": [
      "\n",
      " Can tennis be played for given sample: no\n"
     ]
    }
   ],
   "source": [
    "def predict(query,tree,default=1):\n",
    "    for key in list(query.keys()):\n",
    "        if key in list(tree.keys()):\n",
    "            #try:\n",
    "            result=tree[key][query[key]]\n",
    "           # except:\n",
    "               # return default\n",
    "            result=tree[key][query[key]]\n",
    "            if isinstance(result,dict):\n",
    "                return predict(query,result)\n",
    "            else:\n",
    "                return result\n",
    "query={'Outlook':'sunny','Temperature':'cool','Humidity':'high','Wind':'weak'}\n",
    "answer=predict(query,tree)\n",
    "print('\\n Can tennis be played for given sample:',answer)"
   ]
  },
  {
   "cell_type": "code",
   "execution_count": null,
   "metadata": {},
   "outputs": [],
   "source": []
  }
 ],
 "metadata": {
  "kernelspec": {
   "display_name": "Python 3",
   "language": "python",
   "name": "python3"
  },
  "language_info": {
   "codemirror_mode": {
    "name": "ipython",
    "version": 3
   },
   "file_extension": ".py",
   "mimetype": "text/x-python",
   "name": "python",
   "nbconvert_exporter": "python",
   "pygments_lexer": "ipython3",
   "version": "3.7.3"
  }
 },
 "nbformat": 4,
 "nbformat_minor": 2
}
