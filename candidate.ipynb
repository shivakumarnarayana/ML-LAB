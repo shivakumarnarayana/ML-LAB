{
 "cells": [
  {
   "cell_type": "code",
   "execution_count": 5,
   "metadata": {},
   "outputs": [
    {
     "name": "stdout",
     "output_type": "stream",
     "text": [
      "   sunny  warm normal  strong warm.1    same  Y\n",
      "0  sunny  warm   high  strong   warm    same  Y\n",
      "1  rainy  cold   high  strong   warm  change  N\n",
      "2  sunny  warm   high  strong   cool  change  Y\n",
      "   sunny  warm normal  strong warm.1    same\n",
      "0  sunny  warm   high  strong   warm    same\n",
      "1  rainy  cold   high  strong   warm  change\n",
      "2  sunny  warm   high  strong   cool  change\n",
      "0    Y\n",
      "1    N\n",
      "2    Y\n",
      "Name: Y, dtype: object\n"
     ]
    }
   ],
   "source": [
    "import numpy as np\n",
    "import pandas as pd\n",
    "data=pd.read_csv(\"Prog 2b-data22_sports.csv\")\n",
    "concepts=data.iloc[:,0:-1]\n",
    "target=data.iloc[:,-1]\n",
    "print(data)\n",
    "print(concepts)\n",
    "print(target)"
   ]
  },
  {
   "cell_type": "code",
   "execution_count": 2,
   "metadata": {},
   "outputs": [],
   "source": [
    "def learn(concepts,target):\n",
    "    \n",
    "    specific_h=concepts.iloc[0]\n",
    "    general_h=[[\"?\" for i in range(len(specific_h))]for i in range(len(specific_h))]\n",
    "    for i in range(len(concepts)):\n",
    "        h=concepts.iloc[i]\n",
    "        h\n",
    "        if target[i]==\"Y\":\n",
    "            for x in range(len(specific_h)):\n",
    "                if h[x]!=specific_h[x]:\n",
    "                    specific_h[x]=\"?\"\n",
    "                    general_h[x]=\"?\"\n",
    "        if target[i]==\"N\":\n",
    "            for x in range(len(specific_h)):\n",
    "                if h[x]!=specific_h[x]:    \n",
    "                    general_h[x][x]=specific_h[x]\n",
    "                else:\n",
    "                    general_h[x][x]=\"?\"\n",
    "    indices=[i for i,val in enumerate(general_h) if val==['?','?','?','?','?','?']]\n",
    "    for i in indices:\n",
    "        general_h.remove(['?','?','?','?','?','?'])\n",
    "    return specific_h,general_h\n"
   ]
  },
  {
   "cell_type": "code",
   "execution_count": 3,
   "metadata": {},
   "outputs": [
    {
     "name": "stdout",
     "output_type": "stream",
     "text": [
      "sunny      sunny\n",
      "warm        warm\n",
      "normal      high\n",
      "strong    strong\n",
      "warm.1         ?\n",
      "same           ?\n",
      "Name: 0, dtype: object [['sunny', '?', '?', '?', '?', '?'], ['?', 'warm', '?', '?', '?', '?'], '?', '?']\n"
     ]
    }
   ],
   "source": [
    "s,g=learn(concepts,target)\n",
    "print(s,g)"
   ]
  }
 ],
 "metadata": {
  "kernelspec": {
   "display_name": "Python 3",
   "language": "python",
   "name": "python3"
  },
  "language_info": {
   "codemirror_mode": {
    "name": "ipython",
    "version": 3
   },
   "file_extension": ".py",
   "mimetype": "text/x-python",
   "name": "python",
   "nbconvert_exporter": "python",
   "pygments_lexer": "ipython3",
   "version": "3.7.3"
  }
 },
 "nbformat": 4,
 "nbformat_minor": 2
}
